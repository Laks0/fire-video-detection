{
 "cells": [
  {
   "cell_type": "code",
   "execution_count": 40,
   "id": "647a66b4-8f4d-452e-85a4-5bb1b878eb63",
   "metadata": {},
   "outputs": [
    {
     "data": {
      "text/plain": [
       "<Figure size 640x480 with 0 Axes>"
      ]
     },
     "metadata": {},
     "output_type": "display_data"
    }
   ],
   "source": [
    "from Movement_functions import *\n",
    "from Color_functions import *\n",
    "import numpy as np\n",
    "import matplotlib.pyplot as plt\n",
    "from skimage import color\n",
    "plt.gray()"
   ]
  },
  {
   "cell_type": "code",
   "execution_count": 2,
   "id": "6635d0f9-0772-48da-b9c5-56c90aa2dce2",
   "metadata": {},
   "outputs": [],
   "source": [
    "prob_la = np.load(\"prob_la.npy\")\n",
    "prob_lb = np.load(\"prob_lb.npy\")\n",
    "prob_ab = np.load(\"prob_ab.npy\")"
   ]
  },
  {
   "cell_type": "code",
   "execution_count": 48,
   "id": "39353097-9aec-4c11-ac40-276f7a47b27a",
   "metadata": {},
   "outputs": [],
   "source": [
    "def frames_con_fuego(video_dir):\n",
    "    frames = video_rgb(video_dir)\n",
    "    M_t = matriz_de_movimiento(video_dir)\n",
    "    F_otsu = video_otsu_a(video_dir)\n",
    "    F_mascaras = video_mascaras_R(video_dir, prob_la, prob_lb, prob_ab)\n",
    "    F_otsu_R = video_otsu_a_R5(video_dir, prob_la, prob_lb, prob_ab)\n",
    "\n",
    "    C_otsu = [M_t[i]&F_otsu[i] for i in range(len(M_t))]\n",
    "    C_mascaras = [M_t[i]&F_mascaras[i][0] for i in range(len(M_t))]\n",
    "    C_otsu_R = [M_t[i]&F_otsu_R[i] for i in range(len(M_t))]\n",
    "    \n",
    "    comps_otsu = componentes_que_crecen(np.array(C_otsu), tiempo_buffer=5, min_crecimiento=.4, min_area=5)\n",
    "    comps_mascaras = componentes_que_crecen(np.array(C_mascaras), tiempo_buffer=5, min_crecimiento=.4, min_area=5)\n",
    "    comps_otsu_R = componentes_que_crecen(np.array(C_otsu_R), tiempo_buffer=5, min_crecimiento=.4, min_area=5)\n",
    "\n",
    "    prologo = [False for i in range(5)]\n",
    "    hay_fuego_otsu = [np.any(x) for x in comps_otsu]\n",
    "    hay_fuego_mascaras = [np.any(x) for x in comps_mascaras]\n",
    "    hay_fuego_otsu_R = [np.any(x) for x in comps_otsu_R]\n",
    "    return prologo + hay_fuego_otsu, prologo + hay_fuego_mascaras, prologo + hay_fuego_otsu_R"
   ]
  },
  {
   "cell_type": "markdown",
   "id": "e32a9e75-719a-4149-a69f-7c6974bf744c",
   "metadata": {},
   "source": [
    "## Inicio de fuego\n",
    "En este video el fuego empieza en el frame 17"
   ]
  },
  {
   "cell_type": "code",
   "execution_count": 51,
   "id": "377911b4-d874-40e8-8935-c6c790d881c2",
   "metadata": {},
   "outputs": [],
   "source": [
    "video_1_correcto = [False] * 16 + [True] * 53"
   ]
  },
  {
   "cell_type": "code",
   "execution_count": 49,
   "id": "60416d64-c469-4e7d-be13-957f569f4006",
   "metadata": {},
   "outputs": [
    {
     "name": "stdout",
     "output_type": "stream",
     "text": [
      "Preprocesados 69 frames\n",
      "Procesado frame 10\n",
      "Procesado frame 20\n",
      "Procesado frame 30\n",
      "Procesado frame 40\n",
      "Procesado frame 50\n",
      "Procesado frame 60\n",
      "Listo :)\n",
      "Preprocesados 69 frames\n",
      "Procesado frame 10\n",
      "Procesado frame 20\n",
      "Procesado frame 30\n",
      "Procesado frame 40\n",
      "Procesado frame 50\n",
      "Procesado frame 60\n",
      "Listo :)\n",
      "Preprocesados 69 frames\n",
      "Procesado frame 10\n",
      "Procesado frame 20\n",
      "Procesado frame 30\n",
      "Procesado frame 40\n",
      "Procesado frame 50\n",
      "Procesado frame 60\n",
      "Listo :)\n"
     ]
    }
   ],
   "source": [
    "video_1_otsu, video_1_mascaras, video_1_ostu_R = frames_con_fuego(\"videos5fps/sometimes-fire.mp4\")"
   ]
  },
  {
   "cell_type": "markdown",
   "id": "bc874df1-74d3-4fb8-9805-b2135d307420",
   "metadata": {},
   "source": [
    "### En este video R1&...&R4 la pifian y dan muchos falsos negativos"
   ]
  },
  {
   "cell_type": "code",
   "execution_count": 73,
   "id": "f61bfaf3-49bf-410d-af33-c6e22b4b073c",
   "metadata": {},
   "outputs": [
    {
     "name": "stdout",
     "output_type": "stream",
     "text": [
      "R1&..&R5\n",
      "Porcentaje de acierto: 0.2028985507246377\n",
      "Falsos positivos: 10\n",
      "Falsos negativos: 46\n"
     ]
    }
   ],
   "source": [
    "print(\"R1&..&R5\")\n",
    "print(\"Porcentaje de acierto:\",np.sum(np.array(video_1_mascaras) == np.array(video_1_correcto))/69)\n",
    "print(\"Falsos positivos:\",np.sum(np.array(video_1_mascaras)[:17]))\n",
    "print(\"Falsos negativos:\",np.sum(np.array(video_1_mascaras[17:]) == False))"
   ]
  },
  {
   "cell_type": "code",
   "execution_count": 66,
   "id": "39932ffc-1a56-42ea-ba7b-d4ccd1b19d7d",
   "metadata": {},
   "outputs": [
    {
     "name": "stdout",
     "output_type": "stream",
     "text": [
      "Solo Otsu\n",
      "Porcentaje de acierto: 0.8405797101449275\n",
      "Falsos positivos: 12\n",
      "Falsos negativos: 0\n"
     ]
    }
   ],
   "source": [
    "print(\"Solo Otsu\")\n",
    "print(\"Porcentaje de acierto:\",np.sum(np.array(video_1_otsu) == np.array(video_1_correcto))/69)\n",
    "print(\"Falsos positivos:\",np.sum(np.array(video_1_otsu)[:17]))\n",
    "print(\"Falsos negativos:\",np.sum(np.array(video_1_otsu[17:]) == False))"
   ]
  },
  {
   "cell_type": "code",
   "execution_count": 72,
   "id": "ab7f87e1-d35c-4c68-8451-fcd5d0d38af4",
   "metadata": {},
   "outputs": [
    {
     "name": "stdout",
     "output_type": "stream",
     "text": [
      "Otsu&R5\n",
      "Porcentaje de acierto: 0.8260869565217391\n",
      "Falsos positivos: 12\n",
      "Falsos negativos: 1\n"
     ]
    }
   ],
   "source": [
    "print(\"Otsu&R5\")\n",
    "print(\"Porcentaje de acierto:\",np.sum(np.array(video_1_ostu_R) == np.array(video_1_correcto))/69)\n",
    "print(\"Falsos positivos:\",np.sum(np.array(video_1_ostu_R)[:17]))\n",
    "print(\"Falsos negativos:\",np.sum(np.array(video_1_ostu_R[17:]) == False))"
   ]
  },
  {
   "cell_type": "markdown",
   "id": "33357e0d-c3f6-4301-97e8-986decc849af",
   "metadata": {},
   "source": [
    "## No Hay fuego"
   ]
  },
  {
   "cell_type": "code",
   "execution_count": 76,
   "id": "52228b4e-2d83-484a-b2be-03d02f546bc8",
   "metadata": {},
   "outputs": [
    {
     "name": "stdout",
     "output_type": "stream",
     "text": [
      "Preprocesados 26 frames\n",
      "Procesado frame 10\n",
      "Procesado frame 20\n",
      "Listo :)\n",
      "Preprocesados 26 frames\n",
      "Procesado frame 10\n",
      "Procesado frame 20\n",
      "Listo :)\n",
      "Preprocesados 26 frames\n",
      "Procesado frame 10\n",
      "Procesado frame 20\n",
      "Listo :)\n"
     ]
    }
   ],
   "source": [
    "video_2_correcto = [False] * 26\n",
    "video_2_otsu, video_2_mascaras, video_2_otsu_R = frames_con_fuego(\"videos5fps/non-fire-1.avi\")"
   ]
  },
  {
   "cell_type": "code",
   "execution_count": 77,
   "id": "41e5ce46-e9f7-43b7-ba8b-81259d68f35b",
   "metadata": {},
   "outputs": [
    {
     "name": "stdout",
     "output_type": "stream",
     "text": [
      "R2&..&R5\n",
      "Porcentaje de acierto: 1.0\n",
      "Falsos positivos: 0\n"
     ]
    }
   ],
   "source": [
    "print(\"R2&..&R5\")\n",
    "print(\"Porcentaje de acierto:\",np.sum(np.array(video_2_mascaras) == np.array(video_2_correcto))/26)\n",
    "print(\"Falsos positivos:\",np.sum(np.array(video_2_mascaras)))"
   ]
  },
  {
   "cell_type": "code",
   "execution_count": 80,
   "id": "03d4a55b-4114-4377-aebf-87c659d9452c",
   "metadata": {},
   "outputs": [
    {
     "name": "stdout",
     "output_type": "stream",
     "text": [
      "Solo Otsu\n",
      "Porcentaje de acierto: 0.19230769230769232\n",
      "Falsos positivos: 21\n"
     ]
    }
   ],
   "source": [
    "print(\"Solo Otsu\")\n",
    "print(\"Porcentaje de acierto:\",np.sum(np.array(video_2_otsu) == np.array(video_2_correcto))/26)\n",
    "print(\"Falsos positivos:\",np.sum(np.array(video_2_otsu)))"
   ]
  },
  {
   "cell_type": "code",
   "execution_count": 82,
   "id": "ef106ae3-120a-4790-b641-ceab4631ed40",
   "metadata": {},
   "outputs": [
    {
     "name": "stdout",
     "output_type": "stream",
     "text": [
      "Otsu&R5\n",
      "Porcentaje de acierto: 0.34615384615384615\n",
      "Falsos positivos: 17\n"
     ]
    }
   ],
   "source": [
    "print(\"Otsu&R5\")\n",
    "print(\"Porcentaje de acierto:\",np.sum(np.array(video_2_ostu_R) == np.array(video_2_correcto))/26)\n",
    "print(\"Falsos positivos:\",np.sum(np.array(video_2_ostu_R)))"
   ]
  },
  {
   "cell_type": "markdown",
   "id": "bc99d3fe-8082-4500-90cd-03c2e00a0cc1",
   "metadata": {},
   "source": [
    "## Incendio"
   ]
  },
  {
   "cell_type": "code",
   "execution_count": 84,
   "id": "1d526886-0433-4d0a-9120-d91d6c3b2a40",
   "metadata": {},
   "outputs": [],
   "source": [
    "video_3_correcto = [True] * 68"
   ]
  },
  {
   "cell_type": "code",
   "execution_count": 83,
   "id": "a2bcde88-a1d2-43ad-9246-4f454759ca20",
   "metadata": {},
   "outputs": [
    {
     "name": "stdout",
     "output_type": "stream",
     "text": [
      "Preprocesados 68 frames\n",
      "Procesado frame 10\n",
      "Procesado frame 20\n",
      "Procesado frame 30\n",
      "Procesado frame 40\n",
      "Procesado frame 50\n",
      "Procesado frame 60\n",
      "Listo :)\n",
      "Preprocesados 68 frames\n",
      "Procesado frame 10\n",
      "Procesado frame 20\n",
      "Procesado frame 30\n",
      "Procesado frame 40\n",
      "Procesado frame 50\n",
      "Procesado frame 60\n",
      "Listo :)\n",
      "Preprocesados 68 frames\n",
      "Procesado frame 10\n",
      "Procesado frame 20\n",
      "Procesado frame 30\n",
      "Procesado frame 40\n",
      "Procesado frame 50\n",
      "Procesado frame 60\n",
      "Listo :)\n"
     ]
    }
   ],
   "source": [
    "video_3_otsu, video_3_mascaras, video_3_otsu_R = frames_con_fuego(\"videos5fps/controlled3.avi\")"
   ]
  },
  {
   "cell_type": "code",
   "execution_count": 86,
   "id": "ab38a5ca-59a6-4a05-9506-3e8759dd690d",
   "metadata": {},
   "outputs": [
    {
     "name": "stdout",
     "output_type": "stream",
     "text": [
      "R3&..&R5\n",
      "Porcentaje de acierto: 0.9264705882352942\n",
      "Falsos negativos: 5\n"
     ]
    }
   ],
   "source": [
    "print(\"R3&..&R5\")\n",
    "print(\"Porcentaje de acierto:\",np.sum(np.array(video_3_mascaras) == np.array(video_3_correcto))/68)\n",
    "print(\"Falsos negativos:\",np.sum(np.array(video_3_mascaras) == False))"
   ]
  },
  {
   "cell_type": "code",
   "execution_count": 87,
   "id": "623bbe98-f398-44e5-8813-7ce1df28ef74",
   "metadata": {},
   "outputs": [
    {
     "name": "stdout",
     "output_type": "stream",
     "text": [
      "Solo Otsu\n",
      "Porcentaje de acierto: 0.9264705882352942\n",
      "Falsos negativos: 5\n"
     ]
    }
   ],
   "source": [
    "print(\"Solo Otsu\")\n",
    "print(\"Porcentaje de acierto:\",np.sum(np.array(video_3_otsu) == np.array(video_3_correcto))/68)\n",
    "print(\"Falsos negativos:\",np.sum(np.array(video_3_otsu) == False))"
   ]
  },
  {
   "cell_type": "code",
   "execution_count": 89,
   "id": "86c15913-a0da-4566-8d93-7bd26c6aab25",
   "metadata": {},
   "outputs": [
    {
     "name": "stdout",
     "output_type": "stream",
     "text": [
      "Otsu&R5\n",
      "Porcentaje de acierto: 0.9264705882352942\n",
      "Falsos negativos: 5\n"
     ]
    }
   ],
   "source": [
    "print(\"Otsu&R5\")\n",
    "print(\"Porcentaje de acierto:\",np.sum(np.array(video_3_otsu_R) == np.array(video_3_correcto))/68)\n",
    "print(\"Falsos negativos:\",np.sum(np.array(video_3_otsu_R) == False))"
   ]
  },
  {
   "cell_type": "markdown",
   "id": "ea763575-65c6-48cb-891f-6ce9708ac266",
   "metadata": {},
   "source": [
    "## Fuego imagen naranja"
   ]
  },
  {
   "cell_type": "code",
   "execution_count": 93,
   "id": "0b7157ff-288a-437f-9c15-02eed8e6ce22",
   "metadata": {},
   "outputs": [],
   "source": [
    "video_4_correcto = [True] * 600"
   ]
  },
  {
   "cell_type": "code",
   "execution_count": 90,
   "id": "b8286e56-f708-4f95-8133-38521da785a7",
   "metadata": {},
   "outputs": [
    {
     "name": "stdout",
     "output_type": "stream",
     "text": [
      "Preprocesados 600 frames\n",
      "Procesado frame 10\n",
      "Procesado frame 20\n",
      "Procesado frame 30\n",
      "Procesado frame 40\n",
      "Procesado frame 50\n",
      "Procesado frame 60\n",
      "Procesado frame 70\n",
      "Procesado frame 80\n",
      "Procesado frame 90\n",
      "Procesado frame 100\n",
      "Procesado frame 110\n",
      "Procesado frame 120\n",
      "Procesado frame 130\n",
      "Procesado frame 140\n",
      "Procesado frame 150\n",
      "Procesado frame 160\n",
      "Procesado frame 170\n",
      "Procesado frame 180\n",
      "Procesado frame 190\n",
      "Procesado frame 200\n",
      "Procesado frame 210\n",
      "Procesado frame 220\n",
      "Procesado frame 230\n",
      "Procesado frame 240\n",
      "Procesado frame 250\n",
      "Procesado frame 260\n",
      "Procesado frame 270\n",
      "Procesado frame 280\n",
      "Procesado frame 290\n",
      "Procesado frame 300\n",
      "Procesado frame 310\n",
      "Procesado frame 320\n",
      "Procesado frame 330\n",
      "Procesado frame 340\n",
      "Procesado frame 350\n",
      "Procesado frame 360\n",
      "Procesado frame 370\n",
      "Procesado frame 380\n",
      "Procesado frame 390\n",
      "Procesado frame 400\n",
      "Procesado frame 410\n",
      "Procesado frame 420\n",
      "Procesado frame 430\n",
      "Procesado frame 440\n",
      "Procesado frame 450\n",
      "Procesado frame 460\n",
      "Procesado frame 470\n",
      "Procesado frame 480\n",
      "Procesado frame 490\n",
      "Procesado frame 500\n",
      "Procesado frame 510\n",
      "Procesado frame 520\n",
      "Procesado frame 530\n",
      "Procesado frame 540\n",
      "Procesado frame 550\n",
      "Procesado frame 560\n",
      "Procesado frame 570\n",
      "Procesado frame 580\n",
      "Procesado frame 590\n",
      "Listo :)\n",
      "Preprocesados 600 frames\n",
      "Procesado frame 10\n",
      "Procesado frame 20\n",
      "Procesado frame 30\n",
      "Procesado frame 40\n",
      "Procesado frame 50\n",
      "Procesado frame 60\n",
      "Procesado frame 70\n",
      "Procesado frame 80\n",
      "Procesado frame 90\n",
      "Procesado frame 100\n",
      "Procesado frame 110\n",
      "Procesado frame 120\n",
      "Procesado frame 130\n",
      "Procesado frame 140\n",
      "Procesado frame 150\n",
      "Procesado frame 160\n",
      "Procesado frame 170\n",
      "Procesado frame 180\n",
      "Procesado frame 190\n",
      "Procesado frame 200\n",
      "Procesado frame 210\n",
      "Procesado frame 220\n",
      "Procesado frame 230\n",
      "Procesado frame 240\n",
      "Procesado frame 250\n",
      "Procesado frame 260\n",
      "Procesado frame 270\n",
      "Procesado frame 280\n",
      "Procesado frame 290\n",
      "Procesado frame 300\n",
      "Procesado frame 310\n",
      "Procesado frame 320\n",
      "Procesado frame 330\n",
      "Procesado frame 340\n",
      "Procesado frame 350\n",
      "Procesado frame 360\n",
      "Procesado frame 370\n",
      "Procesado frame 380\n",
      "Procesado frame 390\n",
      "Procesado frame 400\n",
      "Procesado frame 410\n",
      "Procesado frame 420\n",
      "Procesado frame 430\n",
      "Procesado frame 440\n",
      "Procesado frame 450\n",
      "Procesado frame 460\n",
      "Procesado frame 470\n",
      "Procesado frame 480\n",
      "Procesado frame 490\n",
      "Procesado frame 500\n",
      "Procesado frame 510\n",
      "Procesado frame 520\n",
      "Procesado frame 530\n",
      "Procesado frame 540\n",
      "Procesado frame 550\n",
      "Procesado frame 560\n",
      "Procesado frame 570\n",
      "Procesado frame 580\n",
      "Procesado frame 590\n",
      "Listo :)\n",
      "Preprocesados 600 frames\n",
      "Procesado frame 10\n",
      "Procesado frame 20\n",
      "Procesado frame 30\n",
      "Procesado frame 40\n",
      "Procesado frame 50\n",
      "Procesado frame 60\n",
      "Procesado frame 70\n",
      "Procesado frame 80\n",
      "Procesado frame 90\n",
      "Procesado frame 100\n",
      "Procesado frame 110\n",
      "Procesado frame 120\n",
      "Procesado frame 130\n",
      "Procesado frame 140\n",
      "Procesado frame 150\n",
      "Procesado frame 160\n",
      "Procesado frame 170\n",
      "Procesado frame 180\n",
      "Procesado frame 190\n",
      "Procesado frame 200\n",
      "Procesado frame 210\n",
      "Procesado frame 220\n",
      "Procesado frame 230\n",
      "Procesado frame 240\n",
      "Procesado frame 250\n",
      "Procesado frame 260\n",
      "Procesado frame 270\n",
      "Procesado frame 280\n",
      "Procesado frame 290\n",
      "Procesado frame 300\n",
      "Procesado frame 310\n",
      "Procesado frame 320\n",
      "Procesado frame 330\n",
      "Procesado frame 340\n",
      "Procesado frame 350\n",
      "Procesado frame 360\n",
      "Procesado frame 370\n",
      "Procesado frame 380\n",
      "Procesado frame 390\n",
      "Procesado frame 400\n",
      "Procesado frame 410\n",
      "Procesado frame 420\n",
      "Procesado frame 430\n",
      "Procesado frame 440\n",
      "Procesado frame 450\n",
      "Procesado frame 460\n",
      "Procesado frame 470\n",
      "Procesado frame 480\n",
      "Procesado frame 490\n",
      "Procesado frame 500\n",
      "Procesado frame 510\n",
      "Procesado frame 520\n",
      "Procesado frame 530\n",
      "Procesado frame 540\n",
      "Procesado frame 550\n",
      "Procesado frame 560\n",
      "Procesado frame 570\n",
      "Procesado frame 580\n",
      "Procesado frame 590\n",
      "Listo :)\n"
     ]
    }
   ],
   "source": [
    "video_4_otsu, video_4_mascaras, video_4_otsu_R = frames_con_fuego(\"videos5fps/backyard.avi\")"
   ]
  },
  {
   "cell_type": "code",
   "execution_count": 94,
   "id": "bc2c3327-084c-48c3-9270-92ce4f2db148",
   "metadata": {},
   "outputs": [
    {
     "name": "stdout",
     "output_type": "stream",
     "text": [
      "R4&..&R5\n",
      "Porcentaje de acierto: 0.175\n",
      "Falsos negativos: 495\n"
     ]
    }
   ],
   "source": [
    "print(\"R4&..&R5\")\n",
    "print(\"Porcentaje de acierto:\",np.sum(np.array(video_4_mascaras) == np.array(video_4_correcto))/600)\n",
    "print(\"Falsos negativos:\",np.sum(np.array(video_4_mascaras) == False))"
   ]
  },
  {
   "cell_type": "code",
   "execution_count": 95,
   "id": "651c7eaa-b195-4834-938b-2a3f467f744f",
   "metadata": {},
   "outputs": [
    {
     "name": "stdout",
     "output_type": "stream",
     "text": [
      "Solo Otsu\n",
      "Porcentaje de acierto: 0.9883333333333333\n",
      "Falsos negativos: 7\n"
     ]
    }
   ],
   "source": [
    "print(\"Solo Otsu\")\n",
    "print(\"Porcentaje de acierto:\",np.sum(np.array(video_4_otsu) == np.array(video_4_correcto))/600)\n",
    "print(\"Falsos negativos:\",np.sum(np.array(video_4_otsu) == False))"
   ]
  },
  {
   "cell_type": "code",
   "execution_count": 96,
   "id": "02f64903-13d0-4721-85bb-0bb4625546b0",
   "metadata": {},
   "outputs": [
    {
     "name": "stdout",
     "output_type": "stream",
     "text": [
      "Otsu&R5\n",
      "Porcentaje de acierto: 0.9883333333333333\n",
      "Falsos negativos: 7\n"
     ]
    }
   ],
   "source": [
    "print(\"Otsu&R5\")\n",
    "print(\"Porcentaje de acierto:\",np.sum(np.array(video_4_otsu_R) == np.array(video_4_correcto))/600)\n",
    "print(\"Falsos negativos:\",np.sum(np.array(video_4_otsu_R) == False))"
   ]
  }
 ],
 "metadata": {
  "kernelspec": {
   "display_name": "Python 3 (ipykernel)",
   "language": "python",
   "name": "python3"
  },
  "language_info": {
   "codemirror_mode": {
    "name": "ipython",
    "version": 3
   },
   "file_extension": ".py",
   "mimetype": "text/x-python",
   "name": "python",
   "nbconvert_exporter": "python",
   "pygments_lexer": "ipython3",
   "version": "3.12.7"
  }
 },
 "nbformat": 4,
 "nbformat_minor": 5
}
