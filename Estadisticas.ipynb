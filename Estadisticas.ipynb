{
 "cells": [
  {
   "cell_type": "code",
   "execution_count": 1,
   "id": "647a66b4-8f4d-452e-85a4-5bb1b878eb63",
   "metadata": {},
   "outputs": [],
   "source": [
    "from Movement_functions import *\n",
    "from Color_functions import *\n",
    "import numpy as np\n",
    "import matplotlib.pyplot as plt"
   ]
  },
  {
   "cell_type": "code",
   "execution_count": 2,
   "id": "6635d0f9-0772-48da-b9c5-56c90aa2dce2",
   "metadata": {},
   "outputs": [],
   "source": [
    "prob_la = np.load(\"prob_la.npy\")\n",
    "prob_lb = np.load(\"prob_lb.npy\")\n",
    "prob_ab = np.load(\"prob_ab.npy\")"
   ]
  },
  {
   "cell_type": "markdown",
   "id": "e32a9e75-719a-4149-a69f-7c6974bf744c",
   "metadata": {},
   "source": [
    "### Inicio de fuego\n",
    "En este video el fuego empieza en el frame 17"
   ]
  },
  {
   "cell_type": "code",
   "execution_count": 14,
   "id": "d8e18365-ee5b-4554-853b-55ff8fd9e165",
   "metadata": {},
   "outputs": [
    {
     "ename": "ValueError",
     "evalue": "too many values to unpack (expected 2)",
     "output_type": "error",
     "traceback": [
      "\u001b[0;31m---------------------------------------------------------------------------\u001b[0m",
      "\u001b[0;31mValueError\u001b[0m                                Traceback (most recent call last)",
      "Cell \u001b[0;32mIn[14], line 5\u001b[0m\n\u001b[1;32m      3\u001b[0m M_t \u001b[38;5;241m=\u001b[39m matriz_de_movimiento(video_dir)\n\u001b[1;32m      4\u001b[0m F_otsu \u001b[38;5;241m=\u001b[39m video_otsu_a(video_dir)\n\u001b[0;32m----> 5\u001b[0m [F_todas, F_hasta4] \u001b[38;5;241m=\u001b[39m video_mascaras_R(video_dir, prob_la, prob_lb, prob_ab)\n\u001b[1;32m      6\u001b[0m F_otsu_R \u001b[38;5;241m=\u001b[39m video_otsu_a_R5(video_dir, prob_la, prob_lb, prob_ab)\n",
      "\u001b[0;31mValueError\u001b[0m: too many values to unpack (expected 2)"
     ]
    }
   ],
   "source": [
    "video_dir = \"videos5fps/sometimes-fire.mp4\"\n",
    "frames = video_rgb(video_dir)\n",
    "M_t = matriz_de_movimiento(video_dir)\n",
    "F_otsu = video_otsu_a(video_dir)\n",
    "F_mascaras = video_mascaras_R(video_dir, prob_la, prob_lb, prob_ab)\n",
    "F_otsu_R = video_otsu_a_R5(video_dir, prob_la, prob_lb, prob_ab)"
   ]
  },
  {
   "cell_type": "code",
   "execution_count": 15,
   "id": "0e36a949-3887-40a7-aee6-48ef498ca36a",
   "metadata": {},
   "outputs": [],
   "source": [
    "C_otsu = [M_t[i]&F_otsu[i] for i in range(30)]\n",
    "C_mascaras = [M_t[i]&F_mascaras[i][0] for i in range(30)]\n",
    "C_otsu_R = [M_t[i]&F_otsu_R[i] for i in range(30)]"
   ]
  },
  {
   "cell_type": "code",
   "execution_count": 18,
   "id": "bd08c821-6a79-474c-9a75-ea13a9d64f6a",
   "metadata": {},
   "outputs": [
    {
     "name": "stdout",
     "output_type": "stream",
     "text": [
      "Preprocesados 30 frames\n",
      "Procesado frame 10\n",
      "Procesado frame 20\n",
      "Listo :)\n"
     ]
    }
   ],
   "source": [
    "comps_otsu = componentes_que_crecen(np.array(C_otsu), tiempo_buffer=5, min_crecimiento=.4, min_area=1)"
   ]
  },
  {
   "cell_type": "code",
   "execution_count": 19,
   "id": "883f4b9c-ed4d-427a-94cb-5939aada6008",
   "metadata": {},
   "outputs": [
    {
     "name": "stdout",
     "output_type": "stream",
     "text": [
      "Preprocesados 30 frames\n",
      "Procesado frame 10\n",
      "Procesado frame 20\n",
      "Listo :)\n"
     ]
    }
   ],
   "source": [
    "comps_mascaras = componentes_que_crecen(np.array(C_mascaras), tiempo_buffer=5, min_crecimiento=.4, min_area=1)"
   ]
  },
  {
   "cell_type": "code",
   "execution_count": 20,
   "id": "b71c9294-ae73-417e-b4a7-b71808a41a99",
   "metadata": {},
   "outputs": [
    {
     "name": "stdout",
     "output_type": "stream",
     "text": [
      "Preprocesados 30 frames\n",
      "Procesado frame 10\n",
      "Procesado frame 20\n",
      "Listo :)\n"
     ]
    }
   ],
   "source": [
    "comps_otsu_R = componentes_que_crecen(np.array(C_otsu_R), tiempo_buffer=5, min_crecimiento=.4, min_area=10)"
   ]
  }
 ],
 "metadata": {
  "kernelspec": {
   "display_name": "Python 3 (ipykernel)",
   "language": "python",
   "name": "python3"
  },
  "language_info": {
   "codemirror_mode": {
    "name": "ipython",
    "version": 3
   },
   "file_extension": ".py",
   "mimetype": "text/x-python",
   "name": "python",
   "nbconvert_exporter": "python",
   "pygments_lexer": "ipython3",
   "version": "3.12.7"
  }
 },
 "nbformat": 4,
 "nbformat_minor": 5
}
