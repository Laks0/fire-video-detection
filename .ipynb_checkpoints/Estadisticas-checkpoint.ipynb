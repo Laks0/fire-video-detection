{
 "cells": [
  {
   "cell_type": "code",
   "execution_count": 40,
   "id": "647a66b4-8f4d-452e-85a4-5bb1b878eb63",
   "metadata": {},
   "outputs": [
    {
     "data": {
      "text/plain": [
       "<Figure size 640x480 with 0 Axes>"
      ]
     },
     "metadata": {},
     "output_type": "display_data"
    }
   ],
   "source": [
    "from Movement_functions import *\n",
    "from Color_functions import *\n",
    "import numpy as np\n",
    "import matplotlib.pyplot as plt\n",
    "from skimage import color\n",
    "plt.gray()"
   ]
  },
  {
   "cell_type": "code",
   "execution_count": 2,
   "id": "6635d0f9-0772-48da-b9c5-56c90aa2dce2",
   "metadata": {},
   "outputs": [],
   "source": [
    "prob_la = np.load(\"prob_la.npy\")\n",
    "prob_lb = np.load(\"prob_lb.npy\")\n",
    "prob_ab = np.load(\"prob_ab.npy\")"
   ]
  },
  {
   "cell_type": "code",
   "execution_count": 43,
   "id": "39353097-9aec-4c11-ac40-276f7a47b27a",
   "metadata": {},
   "outputs": [],
   "source": [
    "def frames_con_fuego(video_dir):\n",
    "    frames = video_rgb(video_dir)\n",
    "    M_t = matriz_de_movimiento(video_dir)\n",
    "    F_otsu = video_otsu_a(video_dir)\n",
    "    F_mascaras = video_mascaras_R(video_dir, prob_la, prob_lb, prob_ab)\n",
    "    F_otsu_R = video_otsu_a_R5(video_dir, prob_la, prob_lb, prob_ab)\n",
    "\n",
    "    C_otsu = [M_t[i]&F_otsu[i] for i in range(len(M_t))]\n",
    "    C_mascaras = [M_t[i]&F_mascaras[i][0] for i in range(len(M_t))]\n",
    "    C_otsu_R = [M_t[i]&F_otsu_R[i] for i in range(len(M_t))]\n",
    "    \n",
    "    comps_otsu = componentes_que_crecen(np.array(C_otsu), tiempo_buffer=5, min_crecimiento=.4, min_area=5)\n",
    "    comps_mascaras = componentes_que_crecen(np.array(C_mascaras), tiempo_buffer=5, min_crecimiento=.4, min_area=5)\n",
    "    comps_otsu_R = componentes_que_crecen(np.array(C_otsu_R), tiempo_buffer=5, min_crecimiento=.4, min_area=5)\n",
    "\n",
    "    prologo = [False for i in range(5)]\n",
    "    return prologo + comps_otsu, prologo + comps_mascaras, prologo + comps_otsu_R"
   ]
  },
  {
   "cell_type": "markdown",
   "id": "e32a9e75-719a-4149-a69f-7c6974bf744c",
   "metadata": {},
   "source": [
    "### Inicio de fuego\n",
    "En este video el fuego empieza en el frame 17"
   ]
  },
  {
   "cell_type": "code",
   "execution_count": 44,
   "id": "60416d64-c469-4e7d-be13-957f569f4006",
   "metadata": {},
   "outputs": [
    {
     "data": {
      "text/plain": [
       "[1, 2, 3, 3, 2, 1]"
      ]
     },
     "execution_count": 44,
     "metadata": {},
     "output_type": "execute_result"
    }
   ],
   "source": []
  }
 ],
 "metadata": {
  "kernelspec": {
   "display_name": "Python 3 (ipykernel)",
   "language": "python",
   "name": "python3"
  },
  "language_info": {
   "codemirror_mode": {
    "name": "ipython",
    "version": 3
   },
   "file_extension": ".py",
   "mimetype": "text/x-python",
   "name": "python",
   "nbconvert_exporter": "python",
   "pygments_lexer": "ipython3",
   "version": "3.12.7"
  }
 },
 "nbformat": 4,
 "nbformat_minor": 5
}
